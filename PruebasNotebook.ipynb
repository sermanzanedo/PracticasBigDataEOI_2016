{
 "cells": [
  {
   "cell_type": "markdown",
   "metadata": {
    "collapsed": true
   },
   "source": [
    "Ejercicio 1: Definir una función que devuelva los numeros pares de una lista que se pasa como parametro. Implementar dos versiones, una que utilice list comprehesions y otra no.\n",
    "\n"
   ]
  },
  {
   "cell_type": "markdown",
   "metadata": {},
   "source": [
    "Solución con filter:"
   ]
  },
  {
   "cell_type": "code",
   "execution_count": 4,
   "metadata": {
    "collapsed": false
   },
   "outputs": [
    {
     "data": {
      "text/plain": [
       "[2, 4, 6, 8]"
      ]
     },
     "execution_count": 4,
     "metadata": {},
     "output_type": "execute_result"
    }
   ],
   "source": [
    "l = [1, 2, 3, 4, 5, 6, 7, 8]\n",
    "l\n",
    "list(filter(lambda x: x % 2==0, l))\n"
   ]
  },
  {
   "cell_type": "markdown",
   "metadata": {},
   "source": [
    "Solución con List Comprehesions:"
   ]
  },
  {
   "cell_type": "code",
   "execution_count": 18,
   "metadata": {
    "collapsed": false,
    "scrolled": true
   },
   "outputs": [
    {
     "name": "stdout",
     "output_type": "stream",
     "text": [
      "[2, 4, 6, 8]\n"
     ]
    }
   ],
   "source": [
    "nopares = [x for x in  l if x % 2 == 0]\n",
    "print(nopares)\n"
   ]
  },
  {
   "cell_type": "markdown",
   "metadata": {},
   "source": [
    "Ejercicio 2: Definir una función que\tnos\tindique\tsi\tdos\tnúmeros\treales\tson\t\n",
    "aproximadamente\tiguales, con un\tparámetro opcional que\tindica\tla\tprecisión\t\n",
    "que\tqueremos en\tla comparación."
   ]
  },
  {
   "cell_type": "code",
   "execution_count": 21,
   "metadata": {
    "collapsed": false
   },
   "outputs": [
    {
     "name": "stdout",
     "output_type": "stream",
     "text": [
      "3.45000000000000017763568394002504646778106689453125\n",
      "3.45005000000000006110667527536861598491668701171875\n",
      "Precision de  1e-05\n",
      "Valores distintos en: 0.00004999999999988347099133534357\n"
     ]
    }
   ],
   "source": [
    "from decimal import Decimal \n",
    "def precision(A, B, C):# valor A primer numero, Valor B segundo numero a comparar\n",
    "# Valor C: decimales con los que comparar \n",
    "# P.E: precision(2.1,2.105, 4) realiza la comparación de los dos números con una precisión de 0,0001\n",
    "    X= Decimal(A)\n",
    "    Y= Decimal(B)\n",
    "    Z= 10**(-C)\n",
    "    print (X)\n",
    "    print (Y)\n",
    "    print (\"Precision de \", Z)\n",
    "    if abs(X-Y) > Z:\n",
    "        print (\"Valores distintos en:\", abs(X-Y))   \n",
    "    else:\n",
    "        print (\"Valores Iguales con esa precisión\")\n",
    "                \n",
    "precision(3.45,3.45005, 5)"
   ]
  },
  {
   "cell_type": "markdown",
   "metadata": {},
   "source": [
    "Ejercicio 3: Utilizando\treduce,\tdefinir\tuna\tfunción\tque\tcalcule\tel\tmáximo\telemento de una lista."
   ]
  },
  {
   "cell_type": "code",
   "execution_count": 36,
   "metadata": {
    "collapsed": false
   },
   "outputs": [
    {
     "name": "stdout",
     "output_type": "stream",
     "text": [
      "144\n"
     ]
    }
   ],
   "source": [
    "from functools import reduce\n",
    "def Maximo(L):\n",
    "    maximo= reduce((lambda x,y: max(x,y)), L)\n",
    "    print(maximo)\n",
    "    \n",
    "L =(1,2,144,4,2,7,9,11,98)   \n",
    "\n",
    "Maximo(L)\n"
   ]
  },
  {
   "cell_type": "markdown",
   "metadata": {},
   "source": [
    "Ejercicio 4: Investigar\tla\tfunción\tdecode y definir una función que dada una\tcadena sustituya con el\tcarácter “#” las ocurrencias de\tcaracteres\tque\tno\tson\tASCII."
   ]
  },
  {
   "cell_type": "code",
   "execution_count": 60,
   "metadata": {
    "collapsed": false
   },
   "outputs": [
    {
     "ename": "SyntaxError",
     "evalue": "positional argument follows keyword argument (<ipython-input-60-512349ce5ec2>, line 2)",
     "output_type": "error",
     "traceback": [
      "\u001b[0;36m  File \u001b[0;32m\"<ipython-input-60-512349ce5ec2>\"\u001b[0;36m, line \u001b[0;32m2\u001b[0m\n\u001b[0;31m    Prueba.encode(encoding=\"ascii\",\"replace\")\u001b[0m\n\u001b[0m                                  ^\u001b[0m\n\u001b[0;31mSyntaxError\u001b[0m\u001b[0;31m:\u001b[0m positional argument follows keyword argument\n"
     ]
    }
   ],
   "source": [
    "Prueba = \"santñnder\"\n",
    "Prueba.encode(encoding=\"ascii\",\"replace\")\n"
   ]
  }
 ],
 "metadata": {
  "anaconda-cloud": {},
  "kernelspec": {
   "display_name": "Python [default]",
   "language": "python",
   "name": "python3"
  },
  "language_info": {
   "codemirror_mode": {
    "name": "ipython",
    "version": 3
   },
   "file_extension": ".py",
   "mimetype": "text/x-python",
   "name": "python",
   "nbconvert_exporter": "python",
   "pygments_lexer": "ipython3",
   "version": "3.5.2"
  }
 },
 "nbformat": 4,
 "nbformat_minor": 1
}
