{
 "cells": [
  {
   "cell_type": "markdown",
   "metadata": {
    "collapsed": true
   },
   "source": [
    "Ejercicio 1: Definir una función que devuelva los numeros pares de una lista que se pasa como parametro. Implementar dos versiones, una que utilice list comprehesions y otra no.\n",
    "\n"
   ]
  },
  {
   "cell_type": "markdown",
   "metadata": {},
   "source": [
    "Solución con filter:"
   ]
  },
  {
   "cell_type": "code",
   "execution_count": 4,
   "metadata": {
    "collapsed": false
   },
   "outputs": [
    {
     "data": {
      "text/plain": [
       "[2, 4, 6, 8]"
      ]
     },
     "execution_count": 4,
     "metadata": {},
     "output_type": "execute_result"
    }
   ],
   "source": [
    "l = [1, 2, 3, 4, 5, 6, 7, 8]\n",
    "l\n",
    "list(filter(lambda x: x % 2==0, l))\n"
   ]
  },
  {
   "cell_type": "markdown",
   "metadata": {},
   "source": [
    "Solución con List Comprehesions:"
   ]
  },
  {
   "cell_type": "code",
   "execution_count": 18,
   "metadata": {
    "collapsed": false,
    "scrolled": true
   },
   "outputs": [
    {
     "name": "stdout",
     "output_type": "stream",
     "text": [
      "[2, 4, 6, 8]\n"
     ]
    }
   ],
   "source": [
    "nopares = [x for x in  l if x % 2 == 0]\n",
    "print(nopares)\n"
   ]
  },
  {
   "cell_type": "markdown",
   "metadata": {},
   "source": [
    "Ejercicio 2: Definir una función que\tnos\tindique\tsi\tdos\tnúmeros\treales\tson\t\n",
    "aproximadamente\tiguales, con un\tparámetro opcional que\tindica\tla\tprecisión\t\n",
    "que\tqueremos en\tla comparación."
   ]
  },
  {
   "cell_type": "code",
   "execution_count": 23,
   "metadata": {
    "collapsed": false,
    "scrolled": true
   },
   "outputs": [
    {
     "name": "stdout",
     "output_type": "stream",
     "text": [
      "5.6200299999999998590283212251961231231689453125\n",
      "5.62000000000000010658141036401502788066864013671875\n",
      "Precision de  0.01\n",
      "Valores Iguales con esa precisión\n"
     ]
    }
   ],
   "source": [
    "from decimal import Decimal \n",
    "def precision(A, B, C):# valor A primer numero, Valor B segundo numero a comparar\n",
    "# Valor C: decimales con los que comparar \n",
    "# P.E: precision(2.1,2.105, 4) realiza la comparación de los dos números con una precisión de 0,0001\n",
    "    X= Decimal(A)\n",
    "    Y= Decimal(B)\n",
    "    Z= 10**(-C)\n",
    "    print (X)\n",
    "    print (Y)\n",
    "    print (\"Precision de \", Z)\n",
    "    if abs(X-Y) > Z:\n",
    "        print (\"Valores distintos en:\", abs(X-Y))   \n",
    "    else:\n",
    "        print (\"Valores Iguales con esa precisión\")\n",
    "                \n",
    "precision(5.62003,5.62, 2)"
   ]
  },
  {
   "cell_type": "markdown",
   "metadata": {},
   "source": [
    "Ejercicio 3: Utilizando\treduce,\tdefinir\tuna\tfunción\tque\tcalcule\tel\tmáximo\telemento de una lista."
   ]
  },
  {
   "cell_type": "code",
   "execution_count": 15,
   "metadata": {
    "collapsed": false
   },
   "outputs": [
    {
     "name": "stdout",
     "output_type": "stream",
     "text": [
      "144\n"
     ]
    }
   ],
   "source": [
    "from functools import reduce\n",
    "def Maximo(L):\n",
    "    maximo= reduce((lambda x,y: max(x,y)), L)\n",
    "    print(maximo)\n",
    "    \n",
    "L =(1,2,144,4,2,7,9,11,98)   \n",
    "\n",
    "Maximo(L)\n"
   ]
  },
  {
   "cell_type": "markdown",
   "metadata": {},
   "source": [
    "Ejercicio 4: Investigar\tla\tfunción\tdecode y definir una función que dada una\tcadena sustituya con el\tcarácter “#” las ocurrencias de\tcaracteres\tque\tno\tson\tASCII."
   ]
  },
  {
   "cell_type": "code",
   "execution_count": 79,
   "metadata": {
    "collapsed": false
   },
   "outputs": [
    {
     "data": {
      "text/plain": [
       "'Espa#a se escribe con #'"
      ]
     },
     "execution_count": 79,
     "metadata": {},
     "output_type": "execute_result"
    }
   ],
   "source": [
    "\n",
    "def cambiarnoascci (Prueba):\n",
    "    for i in range(0, len(Prueba)):\n",
    "        try:\n",
    "            Prueba[i].encode(encoding=\"ascii\")\n",
    "        except:\n",
    "            s = list(Prueba)\n",
    "            s[i] = \"#\"\n",
    "            Prueba = \"\".join(s)\n",
    "    return Prueba\n",
    "\n",
    "Prueba=\"España se escribe con ñ\"\n",
    "cambiarnoascci(Prueba)\n"
   ]
  },
  {
   "cell_type": "markdown",
   "metadata": {},
   "source": [
    "Ejercicio 5: Utilizando\tmap y\treduce hacer\tun\tprograma que\ttome\tuna\tlista\ty\tle\taplique\tde\tmanera\taleatoria\tuna\tde\tentre\tvarias\tfunciones\ta\tcada uno\tde\tsus\telementos,\ty\tque\tdespués\taleatoriamente\tobtenga\tbien\tla\tmedia\to\tla\tmediana\t de\tlos\telementos\tde\tla\tlista.\tUtilizad\tel\tmódulo\tstatistics."
   ]
  },
  {
   "cell_type": "code",
   "execution_count": 91,
   "metadata": {
    "collapsed": false
   },
   "outputs": [
    {
     "name": "stdout",
     "output_type": "stream",
     "text": [
      "[3, 4, 5, 8, 11, 12, 57, 91, 35, 6, 8, 80, 11]\n",
      "25.46153846153846\n"
     ]
    }
   ],
   "source": [
    "import numpy as np # importando numpy\n",
    "from scipy import stats # importando scipy.stats\n",
    "import random\n",
    "from statistics import mean, median\n",
    "from functools import reduce\n",
    "\n",
    "L = [1,2,3,6,9,10,55,89,33,4,6,78,9]\n",
    "\n",
    "lista = [lambda x: x+2, lambda x: x+3, lambda x:x**2, lambda x: x/2]\n",
    "g=list(map(random.choice(lista),L))\n",
    "print(g)\n",
    "lista2 =[mean(g),median(g)]\n",
    "print(random.choice(lista2))\n",
    "\n",
    "     \n"
   ]
  },
  {
   "cell_type": "markdown",
   "metadata": {},
   "source": [
    "Ejercicio 6: Definir\ty\tprobar\tuna\texpresión\tregular\tpara\tdetectar\talgunos\temoticonos\ten una\tcadena\tde\tcaracteres.\t"
   ]
  },
  {
   "cell_type": "code",
   "execution_count": 153,
   "metadata": {
    "collapsed": false,
    "scrolled": true
   },
   "outputs": [
    {
     "name": "stdout",
     "output_type": "stream",
     "text": [
      "los emoticonos encontrados son: [';)', ':)))))', ':D']\n"
     ]
    }
   ],
   "source": [
    "import re\n",
    "cadena= \" saludos desde madrid ;) :))))) :D\"\n",
    "\n",
    "patron=re.findall(\".\\)+|.\\(+|.\\]+|.\\[|:D+\", cadena)\n",
    "print(\"los emoticonos encontrados son:\",patron)\n"
   ]
  },
  {
   "cell_type": "markdown",
   "metadata": {},
   "source": [
    "(**)\tCrear\ty\tprobar\tuna\texpresión\tregular\tque\treconozca\ten\tuna\tcadena\tde nucleótidos del\tconjunto\t{A,\tC,\tG,\tT} la\trepetición\tde\ttres nucleótidos\tseguidos.\t\n",
    "NOTA:\tSe\tdebería\tcomprobar\tque\tla\tcadena\tsigue\tla\tnotación\tIUPAC:\t\n",
    "https://en.wikipedia.org/wiki/Nucleic_acid_notation"
   ]
  },
  {
   "cell_type": "code",
   "execution_count": 152,
   "metadata": {
    "collapsed": false
   },
   "outputs": [
    {
     "name": "stdout",
     "output_type": "stream",
     "text": [
      "La cadena sigue notación IUPAC {'T', 'G', 'A', 'C'}\n",
      "los grupos de 3 nucleotidos encontrados son ['AAAA', 'GGG']\n"
     ]
    }
   ],
   "source": [
    "cadena=\"CATTGACCGACATTGAAAACCGACATTGACCGAGGGCTGCTA\"\n",
    "\n",
    "def Comprobar (cadena):\n",
    "    comprobar=set(cadena)\n",
    "    if comprobar== {\"A\",\"G\",\"C\",\"T\"}:\n",
    "        print(\"La cadena sigue notación IUPAC\",comprobar)\n",
    "        patron=re.findall(\"CCC+|GGG+|TTT+|AAA+\", cadena)\n",
    "        print (\"los grupos de 3 nucleotidos encontrados son\",patron)\n",
    "    else:\n",
    "        print(\"La cadena no es correcta\")\n",
    "        print(\"los nucleotidos incluidos no son los 4 correctos\", comprobar)\n",
    "Comprobar(cadena)\n"
   ]
  }
 ],
 "metadata": {
  "anaconda-cloud": {},
  "kernelspec": {
   "display_name": "Python [default]",
   "language": "python",
   "name": "python3"
  },
  "language_info": {
   "codemirror_mode": {
    "name": "ipython",
    "version": 3
   },
   "file_extension": ".py",
   "mimetype": "text/x-python",
   "name": "python",
   "nbconvert_exporter": "python",
   "pygments_lexer": "ipython3",
   "version": "3.5.2"
  }
 },
 "nbformat": 4,
 "nbformat_minor": 1
}
